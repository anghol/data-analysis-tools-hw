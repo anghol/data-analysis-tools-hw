{
 "cells": [
  {
   "cell_type": "markdown",
   "id": "3b2c6ee2",
   "metadata": {},
   "source": [
    "# Про градиентный спуск\n",
    "\n",
    "Сравнить сложность точного решения задачи линейной регрессии для случая квадратичной ошибки и сложность решения этой же задачи методом градиентного спуска (при условии, что градиентный спуск сходится с K шагов, в задаче есть M признаков и длина обучающей выборки равна N. N>K и N>M)"
   ]
  },
  {
   "cell_type": "markdown",
   "id": "a678f024",
   "metadata": {},
   "source": [
    "Пусть:<br>\n",
    "$X$ - матрица объекты-признаки (обучающая выборка), $X \\in \\mathbb{R}^{N \\times M}$<br>\n",
    "$y$ - вектор целевой переменной, $y \\in \\mathbb{R}^N$<br>\n",
    "Вычисление предсказания: $\\hat{y} = Xw$<br>\n",
    "Лосс: $L = \\frac{1}{N} || Xw - y ||^2_2$<br>\n",
    "Градиент по весам: $\\nabla _w{L} = \\frac{2}{N} X^T (Xw - y)$"
   ]
  },
  {
   "cell_type": "markdown",
   "id": "4eedeb5c",
   "metadata": {},
   "source": [
    "## Сложность точного решения\n",
    "\n",
    "Для решения задачи $L \\to \\displaystyle\\min_{w}$ приравняем градиент к 0:<br>\n",
    "$\\frac{2}{N} X^T (Xw - y) = 0 \\\\\n",
    "(X^T X)w = X^T y \\\\\n",
    "w = (X^T X)^{-1} X^T y\n",
    "$\n",
    "\n",
    "Рассчитаем сложность точного решения.<br>\n",
    "Перемножение матриц $X^T X$ за $O(M^2 N)$<br>\n",
    "Обращение матрицы $(X^T X)^{-1}$ за $O(M^3)$<br>\n",
    "Перемножение матрицы $X^T$ на вектор $y$ за $O(MN)$<br>\n",
    "Перемножение матрицы $(X^T X)^{-1}$ на вектор $X^T y$ за $O(M^2)$<br>\n",
    "Итоговая сложность $O(M^2 N + M^3 + MN + M^2) \\sim O(M^2 N + M^3)$"
   ]
  },
  {
   "cell_type": "markdown",
   "id": "20525b8c",
   "metadata": {},
   "source": [
    "## Сложность методом градиентного спуска\n",
    "\n",
    "$w_{i+1} = w_i - \\eta \\nabla _w L$\n",
    "\n",
    "Рассчитаем сложность 1 шага градиентного спуска.<br>\n",
    "Вычисление предсказания $\\hat{y} = Xw$ за $O(NM)$<br>\n",
    "Вычисление градиента $\\nabla _w L = \\frac{2}{N} X^T (\\hat{y} - y)$ за $O(MN)$<br>\n",
    "Обновление весов $w_{i+1} = w_i - \\eta \\nabla _w L$ за $O(M)$<br>\n",
    "Сложность 1 шага $O(NM + MN + M) \\sim O(MN)$\n",
    "\n",
    "Если градиентный спуск сходится за $K$ шагов, то итоговая сложность равна $O(MNK)$."
   ]
  },
  {
   "cell_type": "markdown",
   "id": "019d07f6",
   "metadata": {},
   "source": [
    "## Вывод\n",
    "\n",
    "Таким образом, после сравнения сложности точного решения и сложности градиентного спуска, видим, что применение метода градиентного спуска позволяет избавиться от требовательной операции обращения матрицы за $O(M^3)$."
   ]
  },
  {
   "cell_type": "markdown",
   "id": "37ea54d7",
   "metadata": {},
   "source": [
    "# Про FWL-Теорему\n",
    "\n",
    "Кажется, я успешно успел вам наврать на лекции про \"отпиливание\" зависимости из Y-переменной (я вроде это забыл сказать), поэтому реабилитироваться буду примером:"
   ]
  },
  {
   "cell_type": "code",
   "execution_count": 3,
   "id": "2e4277fe",
   "metadata": {},
   "outputs": [
    {
     "data": {
      "text/html": [
       "<table class=\"simpletable\">\n",
       "<caption>OLS Regression Results</caption>\n",
       "<tr>\n",
       "  <th>Dep. Variable:</th>            <td>y</td>        <th>  R-squared:         </th> <td>   0.972</td> \n",
       "</tr>\n",
       "<tr>\n",
       "  <th>Model:</th>                   <td>OLS</td>       <th>  Adj. R-squared:    </th> <td>   0.972</td> \n",
       "</tr>\n",
       "<tr>\n",
       "  <th>Method:</th>             <td>Least Squares</td>  <th>  F-statistic:       </th> <td>1.754e+04</td>\n",
       "</tr>\n",
       "<tr>\n",
       "  <th>Date:</th>             <td>Mon, 14 Oct 2024</td> <th>  Prob (F-statistic):</th>  <td>  0.00</td>  \n",
       "</tr>\n",
       "<tr>\n",
       "  <th>Time:</th>                 <td>15:45:08</td>     <th>  Log-Likelihood:    </th> <td> -1934.3</td> \n",
       "</tr>\n",
       "<tr>\n",
       "  <th>No. Observations:</th>      <td>  1000</td>      <th>  AIC:               </th> <td>   3875.</td> \n",
       "</tr>\n",
       "<tr>\n",
       "  <th>Df Residuals:</th>          <td>   997</td>      <th>  BIC:               </th> <td>   3889.</td> \n",
       "</tr>\n",
       "<tr>\n",
       "  <th>Df Model:</th>              <td>     2</td>      <th>                     </th>     <td> </td>    \n",
       "</tr>\n",
       "<tr>\n",
       "  <th>Covariance Type:</th>      <td>nonrobust</td>    <th>                     </th>     <td> </td>    \n",
       "</tr>\n",
       "</table>\n",
       "<table class=\"simpletable\">\n",
       "<tr>\n",
       "    <td></td>       <th>coef</th>     <th>std err</th>      <th>t</th>      <th>P>|t|</th>  <th>[0.025</th>    <th>0.975]</th>  \n",
       "</tr>\n",
       "<tr>\n",
       "  <th>const</th> <td>    8.6842</td> <td>    0.139</td> <td>   62.606</td> <td> 0.000</td> <td>    8.412</td> <td>    8.956</td>\n",
       "</tr>\n",
       "<tr>\n",
       "  <th>x1</th>    <td>   -2.3455</td> <td>    0.027</td> <td>  -88.274</td> <td> 0.000</td> <td>   -2.398</td> <td>   -2.293</td>\n",
       "</tr>\n",
       "<tr>\n",
       "  <th>x2</th>    <td>    3.3544</td> <td>    0.019</td> <td>  178.202</td> <td> 0.000</td> <td>    3.317</td> <td>    3.391</td>\n",
       "</tr>\n",
       "</table>\n",
       "<table class=\"simpletable\">\n",
       "<tr>\n",
       "  <th>Omnibus:</th>       <td> 0.497</td> <th>  Durbin-Watson:     </th> <td>   2.031</td>\n",
       "</tr>\n",
       "<tr>\n",
       "  <th>Prob(Omnibus):</th> <td> 0.780</td> <th>  Jarque-Bera (JB):  </th> <td>   0.394</td>\n",
       "</tr>\n",
       "<tr>\n",
       "  <th>Skew:</th>          <td>-0.036</td> <th>  Prob(JB):          </th> <td>   0.821</td>\n",
       "</tr>\n",
       "<tr>\n",
       "  <th>Kurtosis:</th>      <td> 3.066</td> <th>  Cond. No.          </th> <td>    31.5</td>\n",
       "</tr>\n",
       "</table><br/><br/>Notes:<br/>[1] Standard Errors assume that the covariance matrix of the errors is correctly specified."
      ],
      "text/plain": [
       "<class 'statsmodels.iolib.summary.Summary'>\n",
       "\"\"\"\n",
       "                            OLS Regression Results                            \n",
       "==============================================================================\n",
       "Dep. Variable:                      y   R-squared:                       0.972\n",
       "Model:                            OLS   Adj. R-squared:                  0.972\n",
       "Method:                 Least Squares   F-statistic:                 1.754e+04\n",
       "Date:                Mon, 14 Oct 2024   Prob (F-statistic):               0.00\n",
       "Time:                        15:45:08   Log-Likelihood:                -1934.3\n",
       "No. Observations:                1000   AIC:                             3875.\n",
       "Df Residuals:                     997   BIC:                             3889.\n",
       "Df Model:                           2                                         \n",
       "Covariance Type:            nonrobust                                         \n",
       "==============================================================================\n",
       "                 coef    std err          t      P>|t|      [0.025      0.975]\n",
       "------------------------------------------------------------------------------\n",
       "const          8.6842      0.139     62.606      0.000       8.412       8.956\n",
       "x1            -2.3455      0.027    -88.274      0.000      -2.398      -2.293\n",
       "x2             3.3544      0.019    178.202      0.000       3.317       3.391\n",
       "==============================================================================\n",
       "Omnibus:                        0.497   Durbin-Watson:                   2.031\n",
       "Prob(Omnibus):                  0.780   Jarque-Bera (JB):                0.394\n",
       "Skew:                          -0.036   Prob(JB):                        0.821\n",
       "Kurtosis:                       3.066   Cond. No.                         31.5\n",
       "==============================================================================\n",
       "\n",
       "Notes:\n",
       "[1] Standard Errors assume that the covariance matrix of the errors is correctly specified.\n",
       "\"\"\""
      ]
     },
     "execution_count": 3,
     "metadata": {},
     "output_type": "execute_result"
    }
   ],
   "source": [
    "import numpy as np\n",
    "import pandas as pd\n",
    "import statsmodels.api as sm\n",
    " \n",
    "np.random.seed(42069)\n",
    " \n",
    "# Пусть у нас есть набор данных, где есть линейная зависимость y от X1 и X2\n",
    "# При этом X1 и X2 тоже малясь зависимые\n",
    "df = pd.DataFrame({'x1': np.random.uniform(0, 10, size=1000)})\n",
    "df['x2'] = 4.9 + df['x1'] * 0.983 + 2.104 * np.random.normal(0, 1.35, size=1000)\n",
    "df['y'] = 8.643 - 2.34 * df['x1'] + 3.35 * df['x2'] + np.random.normal(0, 1.65, size=1000)\n",
    "df['const'] = 1\n",
    " \n",
    "# Построим линейную регрессию-МНК из 1, X1 и X2\n",
    "model = sm.OLS(\n",
    "    endog=df['y'],\n",
    "    exog=df[['const', 'x1', 'x2']]\n",
    ").fit()\n",
    "\n",
    "# Внимательно смотрим на коэффициент при X2\n",
    "model.summary()"
   ]
  },
  {
   "cell_type": "code",
   "execution_count": 7,
   "id": "77f5ea43",
   "metadata": {},
   "outputs": [],
   "source": [
    "# Научим регрессию X1 на X2\n",
    "model_x2 = sm.OLS(\n",
    "    endog=df['x2'],\n",
    "    exog=df[['const', 'x1']]\n",
    ").fit()\n",
    "\n",
    "# Научим регрессию X1 на y\n",
    "model_yx1 = sm.OLS(\n",
    "    endog=df['y'],\n",
    "    exog=df[['const', 'x1']]\n",
    ").fit()"
   ]
  },
  {
   "cell_type": "code",
   "execution_count": 8,
   "id": "f5160e16",
   "metadata": {},
   "outputs": [],
   "source": [
    "# Полученными регрессиями \"предскажем X2 и Y\"\n",
    "\n",
    "df['yx1'] = model_yx1.predict(df[['const', 'x1']])\n",
    "df['x2x1'] = model_x2.predict(df[['const', 'x1']])"
   ]
  },
  {
   "cell_type": "code",
   "execution_count": 9,
   "id": "917bf37b",
   "metadata": {},
   "outputs": [],
   "source": [
    "# А затем \"отпилим\" предсказание из данных\n",
    "df['y_detrended'] = df['y'] - df['yx1']\n",
    "df['x2_detrended'] = df['x2'] - df['x2x1']"
   ]
  },
  {
   "cell_type": "code",
   "execution_count": 11,
   "id": "84f2d8c3",
   "metadata": {},
   "outputs": [
    {
     "data": {
      "text/html": [
       "<table class=\"simpletable\">\n",
       "<caption>OLS Regression Results</caption>\n",
       "<tr>\n",
       "  <th>Dep. Variable:</th>       <td>y_detrended</td>   <th>  R-squared:         </th> <td>   0.970</td> \n",
       "</tr>\n",
       "<tr>\n",
       "  <th>Model:</th>                   <td>OLS</td>       <th>  Adj. R-squared:    </th> <td>   0.970</td> \n",
       "</tr>\n",
       "<tr>\n",
       "  <th>Method:</th>             <td>Least Squares</td>  <th>  F-statistic:       </th> <td>3.179e+04</td>\n",
       "</tr>\n",
       "<tr>\n",
       "  <th>Date:</th>             <td>Mon, 14 Oct 2024</td> <th>  Prob (F-statistic):</th>  <td>  0.00</td>  \n",
       "</tr>\n",
       "<tr>\n",
       "  <th>Time:</th>                 <td>16:14:48</td>     <th>  Log-Likelihood:    </th> <td> -1934.3</td> \n",
       "</tr>\n",
       "<tr>\n",
       "  <th>No. Observations:</th>      <td>  1000</td>      <th>  AIC:               </th> <td>   3873.</td> \n",
       "</tr>\n",
       "<tr>\n",
       "  <th>Df Residuals:</th>          <td>   998</td>      <th>  BIC:               </th> <td>   3882.</td> \n",
       "</tr>\n",
       "<tr>\n",
       "  <th>Df Model:</th>              <td>     1</td>      <th>                     </th>     <td> </td>    \n",
       "</tr>\n",
       "<tr>\n",
       "  <th>Covariance Type:</th>      <td>nonrobust</td>    <th>                     </th>     <td> </td>    \n",
       "</tr>\n",
       "</table>\n",
       "<table class=\"simpletable\">\n",
       "<tr>\n",
       "        <td></td>          <th>coef</th>     <th>std err</th>      <th>t</th>      <th>P>|t|</th>  <th>[0.025</th>    <th>0.975]</th>  \n",
       "</tr>\n",
       "<tr>\n",
       "  <th>const</th>        <td>-1.002e-14</td> <td>    0.053</td> <td>-1.89e-13</td> <td> 1.000</td> <td>   -0.104</td> <td>    0.104</td>\n",
       "</tr>\n",
       "<tr>\n",
       "  <th>x2_detrended</th> <td>    3.3544</td> <td>    0.019</td> <td>  178.292</td> <td> 0.000</td> <td>    3.318</td> <td>    3.391</td>\n",
       "</tr>\n",
       "</table>\n",
       "<table class=\"simpletable\">\n",
       "<tr>\n",
       "  <th>Omnibus:</th>       <td> 0.497</td> <th>  Durbin-Watson:     </th> <td>   2.031</td>\n",
       "</tr>\n",
       "<tr>\n",
       "  <th>Prob(Omnibus):</th> <td> 0.780</td> <th>  Jarque-Bera (JB):  </th> <td>   0.394</td>\n",
       "</tr>\n",
       "<tr>\n",
       "  <th>Skew:</th>          <td>-0.036</td> <th>  Prob(JB):          </th> <td>   0.821</td>\n",
       "</tr>\n",
       "<tr>\n",
       "  <th>Kurtosis:</th>      <td> 3.066</td> <th>  Cond. No.          </th> <td>    2.82</td>\n",
       "</tr>\n",
       "</table><br/><br/>Notes:<br/>[1] Standard Errors assume that the covariance matrix of the errors is correctly specified."
      ],
      "text/plain": [
       "<class 'statsmodels.iolib.summary.Summary'>\n",
       "\"\"\"\n",
       "                            OLS Regression Results                            \n",
       "==============================================================================\n",
       "Dep. Variable:            y_detrended   R-squared:                       0.970\n",
       "Model:                            OLS   Adj. R-squared:                  0.970\n",
       "Method:                 Least Squares   F-statistic:                 3.179e+04\n",
       "Date:                Mon, 14 Oct 2024   Prob (F-statistic):               0.00\n",
       "Time:                        16:14:48   Log-Likelihood:                -1934.3\n",
       "No. Observations:                1000   AIC:                             3873.\n",
       "Df Residuals:                     998   BIC:                             3882.\n",
       "Df Model:                           1                                         \n",
       "Covariance Type:            nonrobust                                         \n",
       "================================================================================\n",
       "                   coef    std err          t      P>|t|      [0.025      0.975]\n",
       "--------------------------------------------------------------------------------\n",
       "const        -1.002e-14      0.053  -1.89e-13      1.000      -0.104       0.104\n",
       "x2_detrended     3.3544      0.019    178.292      0.000       3.318       3.391\n",
       "==============================================================================\n",
       "Omnibus:                        0.497   Durbin-Watson:                   2.031\n",
       "Prob(Omnibus):                  0.780   Jarque-Bera (JB):                0.394\n",
       "Skew:                          -0.036   Prob(JB):                        0.821\n",
       "Kurtosis:                       3.066   Cond. No.                         2.82\n",
       "==============================================================================\n",
       "\n",
       "Notes:\n",
       "[1] Standard Errors assume that the covariance matrix of the errors is correctly specified.\n",
       "\"\"\""
      ]
     },
     "execution_count": 11,
     "metadata": {},
     "output_type": "execute_result"
    }
   ],
   "source": [
    "# Учим модель на \"очищенных\" переменных и, о Боже, коэффициент при X2 остается \"как был\"\n",
    "model_detrended = sm.OLS(\n",
    "    endog=df['y_detrended'],\n",
    "    exog=df[['const', 'x2_detrended']]\n",
    ").fit()\n",
    "model_detrended.summary()"
   ]
  },
  {
   "cell_type": "markdown",
   "id": "cadade48",
   "metadata": {},
   "source": [
    "# А теперь задачка :)\n",
    "\n",
    "Возьмите данные c kaggle, например [отсюда](https://www.kaggle.com/code/malakalaabiad/house-prices-techniques/input) и удостоверьтесь, что FWL-теорема работает, но только не для случая одной переменной :)\n"
   ]
  },
  {
   "cell_type": "code",
   "execution_count": 124,
   "id": "5cbb8397",
   "metadata": {},
   "outputs": [
    {
     "name": "stdout",
     "output_type": "stream",
     "text": [
      "Размерность: (506, 15)\n",
      "Названия признаков: ['CRIM' 'ZN' 'INDUS' 'CHAS' 'NOX' 'RM' 'AGE' 'DIS' 'RAD' 'TAX' 'PTRATIO'\n",
      " 'B' 'LSTAT' 'MEDV' 'CONST']\n"
     ]
    },
    {
     "data": {
      "text/html": [
       "<div>\n",
       "<style scoped>\n",
       "    .dataframe tbody tr th:only-of-type {\n",
       "        vertical-align: middle;\n",
       "    }\n",
       "\n",
       "    .dataframe tbody tr th {\n",
       "        vertical-align: top;\n",
       "    }\n",
       "\n",
       "    .dataframe thead th {\n",
       "        text-align: right;\n",
       "    }\n",
       "</style>\n",
       "<table border=\"1\" class=\"dataframe\">\n",
       "  <thead>\n",
       "    <tr style=\"text-align: right;\">\n",
       "      <th></th>\n",
       "      <th>CRIM</th>\n",
       "      <th>ZN</th>\n",
       "      <th>INDUS</th>\n",
       "      <th>CHAS</th>\n",
       "      <th>NOX</th>\n",
       "      <th>RM</th>\n",
       "      <th>AGE</th>\n",
       "      <th>DIS</th>\n",
       "      <th>RAD</th>\n",
       "      <th>TAX</th>\n",
       "      <th>PTRATIO</th>\n",
       "      <th>B</th>\n",
       "      <th>LSTAT</th>\n",
       "      <th>MEDV</th>\n",
       "      <th>CONST</th>\n",
       "    </tr>\n",
       "  </thead>\n",
       "  <tbody>\n",
       "    <tr>\n",
       "      <th>0</th>\n",
       "      <td>0.00632</td>\n",
       "      <td>18.0</td>\n",
       "      <td>2.31</td>\n",
       "      <td>0</td>\n",
       "      <td>0.538</td>\n",
       "      <td>6.575</td>\n",
       "      <td>65.2</td>\n",
       "      <td>4.0900</td>\n",
       "      <td>1</td>\n",
       "      <td>296.0</td>\n",
       "      <td>15.3</td>\n",
       "      <td>396.90</td>\n",
       "      <td>4.98</td>\n",
       "      <td>24.0</td>\n",
       "      <td>1</td>\n",
       "    </tr>\n",
       "    <tr>\n",
       "      <th>1</th>\n",
       "      <td>0.02731</td>\n",
       "      <td>0.0</td>\n",
       "      <td>7.07</td>\n",
       "      <td>0</td>\n",
       "      <td>0.469</td>\n",
       "      <td>6.421</td>\n",
       "      <td>78.9</td>\n",
       "      <td>4.9671</td>\n",
       "      <td>2</td>\n",
       "      <td>242.0</td>\n",
       "      <td>17.8</td>\n",
       "      <td>396.90</td>\n",
       "      <td>9.14</td>\n",
       "      <td>21.6</td>\n",
       "      <td>1</td>\n",
       "    </tr>\n",
       "    <tr>\n",
       "      <th>2</th>\n",
       "      <td>0.02729</td>\n",
       "      <td>0.0</td>\n",
       "      <td>7.07</td>\n",
       "      <td>0</td>\n",
       "      <td>0.469</td>\n",
       "      <td>7.185</td>\n",
       "      <td>61.1</td>\n",
       "      <td>4.9671</td>\n",
       "      <td>2</td>\n",
       "      <td>242.0</td>\n",
       "      <td>17.8</td>\n",
       "      <td>392.83</td>\n",
       "      <td>4.03</td>\n",
       "      <td>34.7</td>\n",
       "      <td>1</td>\n",
       "    </tr>\n",
       "    <tr>\n",
       "      <th>3</th>\n",
       "      <td>0.03237</td>\n",
       "      <td>0.0</td>\n",
       "      <td>2.18</td>\n",
       "      <td>0</td>\n",
       "      <td>0.458</td>\n",
       "      <td>6.998</td>\n",
       "      <td>45.8</td>\n",
       "      <td>6.0622</td>\n",
       "      <td>3</td>\n",
       "      <td>222.0</td>\n",
       "      <td>18.7</td>\n",
       "      <td>394.63</td>\n",
       "      <td>2.94</td>\n",
       "      <td>33.4</td>\n",
       "      <td>1</td>\n",
       "    </tr>\n",
       "    <tr>\n",
       "      <th>4</th>\n",
       "      <td>0.06905</td>\n",
       "      <td>0.0</td>\n",
       "      <td>2.18</td>\n",
       "      <td>0</td>\n",
       "      <td>0.458</td>\n",
       "      <td>7.147</td>\n",
       "      <td>54.2</td>\n",
       "      <td>6.0622</td>\n",
       "      <td>3</td>\n",
       "      <td>222.0</td>\n",
       "      <td>18.7</td>\n",
       "      <td>396.90</td>\n",
       "      <td>5.33</td>\n",
       "      <td>36.2</td>\n",
       "      <td>1</td>\n",
       "    </tr>\n",
       "  </tbody>\n",
       "</table>\n",
       "</div>"
      ],
      "text/plain": [
       "      CRIM    ZN  INDUS  CHAS    NOX     RM   AGE     DIS  RAD    TAX  \\\n",
       "0  0.00632  18.0   2.31     0  0.538  6.575  65.2  4.0900    1  296.0   \n",
       "1  0.02731   0.0   7.07     0  0.469  6.421  78.9  4.9671    2  242.0   \n",
       "2  0.02729   0.0   7.07     0  0.469  7.185  61.1  4.9671    2  242.0   \n",
       "3  0.03237   0.0   2.18     0  0.458  6.998  45.8  6.0622    3  222.0   \n",
       "4  0.06905   0.0   2.18     0  0.458  7.147  54.2  6.0622    3  222.0   \n",
       "\n",
       "   PTRATIO       B  LSTAT  MEDV  CONST  \n",
       "0     15.3  396.90   4.98  24.0      1  \n",
       "1     17.8  396.90   9.14  21.6      1  \n",
       "2     17.8  392.83   4.03  34.7      1  \n",
       "3     18.7  394.63   2.94  33.4      1  \n",
       "4     18.7  396.90   5.33  36.2      1  "
      ]
     },
     "execution_count": 124,
     "metadata": {},
     "output_type": "execute_result"
    }
   ],
   "source": [
    "# Загружаем датасет, смотрим значения признаков - все числовые\n",
    "data = pd.read_csv('boston.csv')\n",
    "data['CONST'] = 1\n",
    "\n",
    "print('Размерность:', data.shape)\n",
    "print('Названия признаков:', data.columns.values)\n",
    "data.head()"
   ]
  },
  {
   "cell_type": "code",
   "execution_count": 137,
   "id": "3f93e895",
   "metadata": {},
   "outputs": [],
   "source": [
    "# Названия признаков и целевая переменная\n",
    "feature_columns = data.columns.drop(['MEDV', 'CONST'])\n",
    "const_column = 'CONST'\n",
    "target_column = 'MEDV'"
   ]
  },
  {
   "cell_type": "code",
   "execution_count": 138,
   "id": "541e3a27",
   "metadata": {},
   "outputs": [
    {
     "data": {
      "text/html": [
       "<table class=\"simpletable\">\n",
       "<caption>OLS Regression Results</caption>\n",
       "<tr>\n",
       "  <th>Dep. Variable:</th>          <td>MEDV</td>       <th>  R-squared:         </th> <td>   0.741</td> \n",
       "</tr>\n",
       "<tr>\n",
       "  <th>Model:</th>                   <td>OLS</td>       <th>  Adj. R-squared:    </th> <td>   0.734</td> \n",
       "</tr>\n",
       "<tr>\n",
       "  <th>Method:</th>             <td>Least Squares</td>  <th>  F-statistic:       </th> <td>   108.1</td> \n",
       "</tr>\n",
       "<tr>\n",
       "  <th>Date:</th>             <td>Mon, 14 Oct 2024</td> <th>  Prob (F-statistic):</th> <td>6.72e-135</td>\n",
       "</tr>\n",
       "<tr>\n",
       "  <th>Time:</th>                 <td>18:32:08</td>     <th>  Log-Likelihood:    </th> <td> -1498.8</td> \n",
       "</tr>\n",
       "<tr>\n",
       "  <th>No. Observations:</th>      <td>   506</td>      <th>  AIC:               </th> <td>   3026.</td> \n",
       "</tr>\n",
       "<tr>\n",
       "  <th>Df Residuals:</th>          <td>   492</td>      <th>  BIC:               </th> <td>   3085.</td> \n",
       "</tr>\n",
       "<tr>\n",
       "  <th>Df Model:</th>              <td>    13</td>      <th>                     </th>     <td> </td>    \n",
       "</tr>\n",
       "<tr>\n",
       "  <th>Covariance Type:</th>      <td>nonrobust</td>    <th>                     </th>     <td> </td>    \n",
       "</tr>\n",
       "</table>\n",
       "<table class=\"simpletable\">\n",
       "<tr>\n",
       "     <td></td>        <th>coef</th>     <th>std err</th>      <th>t</th>      <th>P>|t|</th>  <th>[0.025</th>    <th>0.975]</th>  \n",
       "</tr>\n",
       "<tr>\n",
       "  <th>CRIM</th>    <td>   -0.1080</td> <td>    0.033</td> <td>   -3.287</td> <td> 0.001</td> <td>   -0.173</td> <td>   -0.043</td>\n",
       "</tr>\n",
       "<tr>\n",
       "  <th>ZN</th>      <td>    0.0464</td> <td>    0.014</td> <td>    3.382</td> <td> 0.001</td> <td>    0.019</td> <td>    0.073</td>\n",
       "</tr>\n",
       "<tr>\n",
       "  <th>INDUS</th>   <td>    0.0206</td> <td>    0.061</td> <td>    0.334</td> <td> 0.738</td> <td>   -0.100</td> <td>    0.141</td>\n",
       "</tr>\n",
       "<tr>\n",
       "  <th>CHAS</th>    <td>    2.6867</td> <td>    0.862</td> <td>    3.118</td> <td> 0.002</td> <td>    0.994</td> <td>    4.380</td>\n",
       "</tr>\n",
       "<tr>\n",
       "  <th>NOX</th>     <td>  -17.7666</td> <td>    3.820</td> <td>   -4.651</td> <td> 0.000</td> <td>  -25.272</td> <td>  -10.262</td>\n",
       "</tr>\n",
       "<tr>\n",
       "  <th>RM</th>      <td>    3.8099</td> <td>    0.418</td> <td>    9.116</td> <td> 0.000</td> <td>    2.989</td> <td>    4.631</td>\n",
       "</tr>\n",
       "<tr>\n",
       "  <th>AGE</th>     <td>    0.0007</td> <td>    0.013</td> <td>    0.052</td> <td> 0.958</td> <td>   -0.025</td> <td>    0.027</td>\n",
       "</tr>\n",
       "<tr>\n",
       "  <th>DIS</th>     <td>   -1.4756</td> <td>    0.199</td> <td>   -7.398</td> <td> 0.000</td> <td>   -1.867</td> <td>   -1.084</td>\n",
       "</tr>\n",
       "<tr>\n",
       "  <th>RAD</th>     <td>    0.3060</td> <td>    0.066</td> <td>    4.613</td> <td> 0.000</td> <td>    0.176</td> <td>    0.436</td>\n",
       "</tr>\n",
       "<tr>\n",
       "  <th>TAX</th>     <td>   -0.0123</td> <td>    0.004</td> <td>   -3.280</td> <td> 0.001</td> <td>   -0.020</td> <td>   -0.005</td>\n",
       "</tr>\n",
       "<tr>\n",
       "  <th>PTRATIO</th> <td>   -0.9527</td> <td>    0.131</td> <td>   -7.283</td> <td> 0.000</td> <td>   -1.210</td> <td>   -0.696</td>\n",
       "</tr>\n",
       "<tr>\n",
       "  <th>B</th>       <td>    0.0093</td> <td>    0.003</td> <td>    3.467</td> <td> 0.001</td> <td>    0.004</td> <td>    0.015</td>\n",
       "</tr>\n",
       "<tr>\n",
       "  <th>LSTAT</th>   <td>   -0.5248</td> <td>    0.051</td> <td>  -10.347</td> <td> 0.000</td> <td>   -0.624</td> <td>   -0.425</td>\n",
       "</tr>\n",
       "<tr>\n",
       "  <th>CONST</th>   <td>   36.4595</td> <td>    5.103</td> <td>    7.144</td> <td> 0.000</td> <td>   26.432</td> <td>   46.487</td>\n",
       "</tr>\n",
       "</table>\n",
       "<table class=\"simpletable\">\n",
       "<tr>\n",
       "  <th>Omnibus:</th>       <td>178.041</td> <th>  Durbin-Watson:     </th> <td>   1.078</td> \n",
       "</tr>\n",
       "<tr>\n",
       "  <th>Prob(Omnibus):</th> <td> 0.000</td>  <th>  Jarque-Bera (JB):  </th> <td> 783.126</td> \n",
       "</tr>\n",
       "<tr>\n",
       "  <th>Skew:</th>          <td> 1.521</td>  <th>  Prob(JB):          </th> <td>8.84e-171</td>\n",
       "</tr>\n",
       "<tr>\n",
       "  <th>Kurtosis:</th>      <td> 8.281</td>  <th>  Cond. No.          </th> <td>1.51e+04</td> \n",
       "</tr>\n",
       "</table><br/><br/>Notes:<br/>[1] Standard Errors assume that the covariance matrix of the errors is correctly specified.<br/>[2] The condition number is large, 1.51e+04. This might indicate that there are<br/>strong multicollinearity or other numerical problems."
      ],
      "text/plain": [
       "<class 'statsmodels.iolib.summary.Summary'>\n",
       "\"\"\"\n",
       "                            OLS Regression Results                            \n",
       "==============================================================================\n",
       "Dep. Variable:                   MEDV   R-squared:                       0.741\n",
       "Model:                            OLS   Adj. R-squared:                  0.734\n",
       "Method:                 Least Squares   F-statistic:                     108.1\n",
       "Date:                Mon, 14 Oct 2024   Prob (F-statistic):          6.72e-135\n",
       "Time:                        18:32:08   Log-Likelihood:                -1498.8\n",
       "No. Observations:                 506   AIC:                             3026.\n",
       "Df Residuals:                     492   BIC:                             3085.\n",
       "Df Model:                          13                                         \n",
       "Covariance Type:            nonrobust                                         \n",
       "==============================================================================\n",
       "                 coef    std err          t      P>|t|      [0.025      0.975]\n",
       "------------------------------------------------------------------------------\n",
       "CRIM          -0.1080      0.033     -3.287      0.001      -0.173      -0.043\n",
       "ZN             0.0464      0.014      3.382      0.001       0.019       0.073\n",
       "INDUS          0.0206      0.061      0.334      0.738      -0.100       0.141\n",
       "CHAS           2.6867      0.862      3.118      0.002       0.994       4.380\n",
       "NOX          -17.7666      3.820     -4.651      0.000     -25.272     -10.262\n",
       "RM             3.8099      0.418      9.116      0.000       2.989       4.631\n",
       "AGE            0.0007      0.013      0.052      0.958      -0.025       0.027\n",
       "DIS           -1.4756      0.199     -7.398      0.000      -1.867      -1.084\n",
       "RAD            0.3060      0.066      4.613      0.000       0.176       0.436\n",
       "TAX           -0.0123      0.004     -3.280      0.001      -0.020      -0.005\n",
       "PTRATIO       -0.9527      0.131     -7.283      0.000      -1.210      -0.696\n",
       "B              0.0093      0.003      3.467      0.001       0.004       0.015\n",
       "LSTAT         -0.5248      0.051    -10.347      0.000      -0.624      -0.425\n",
       "CONST         36.4595      5.103      7.144      0.000      26.432      46.487\n",
       "==============================================================================\n",
       "Omnibus:                      178.041   Durbin-Watson:                   1.078\n",
       "Prob(Omnibus):                  0.000   Jarque-Bera (JB):              783.126\n",
       "Skew:                           1.521   Prob(JB):                    8.84e-171\n",
       "Kurtosis:                       8.281   Cond. No.                     1.51e+04\n",
       "==============================================================================\n",
       "\n",
       "Notes:\n",
       "[1] Standard Errors assume that the covariance matrix of the errors is correctly specified.\n",
       "[2] The condition number is large, 1.51e+04. This might indicate that there are\n",
       "strong multicollinearity or other numerical problems.\n",
       "\"\"\""
      ]
     },
     "execution_count": 138,
     "metadata": {},
     "output_type": "execute_result"
    }
   ],
   "source": [
    "# Строим линейную регрессию-МНК из всех признаков\n",
    "model = sm.OLS(\n",
    "    endog=data[target_column],\n",
    "    exog=data[feature_columns.to_list() + [const_column]]\n",
    ").fit()\n",
    "\n",
    "model.summary()"
   ]
  },
  {
   "cell_type": "code",
   "execution_count": 140,
   "id": "5b548145",
   "metadata": {},
   "outputs": [
    {
     "name": "stdout",
     "output_type": "stream",
     "text": [
      "['RAD' 'RM' 'B' 'TAX' 'INDUS' 'NOX' 'AGE' 'DIS']\n",
      "['CRIM' 'ZN' 'CHAS' 'PTRATIO' 'LSTAT']\n"
     ]
    }
   ],
   "source": [
    "# Разделяем признаки на две группы\n",
    "x1_features = np.random.choice(feature_columns, np.random.randint(2, 10), replace=False)\n",
    "x2_features = feature_columns.drop(x1_features).to_numpy()\n",
    "print(x1_features)\n",
    "print(x2_features)"
   ]
  },
  {
   "cell_type": "code",
   "execution_count": 145,
   "id": "b2c05303",
   "metadata": {},
   "outputs": [],
   "source": [
    "# Учимся предсказывать признаки группы X2 с помощью признаков из группы X1\n",
    "for feature in x2_features:\n",
    "    model_feature_by_x1 = sm.OLS(\n",
    "        endog=data[feature],\n",
    "        exog=data[x1_features.tolist() + [const_column]]\n",
    "    ).fit()\n",
    "\n",
    "    # Отнимаем предсказанные значения признака\n",
    "    data[feature + '_by_x1'] = model_feature_by_x1.predict(data[x1_features.tolist() + [const_column]])\n",
    "    data[feature + '_detrended'] = data[feature] - data[feature + '_by_x1']\n",
    "\n",
    "# Учимся предсказывать целевую переменную с помощью признаков из X1\n",
    "model_MEDV = sm.OLS(\n",
    "    endog=data[target_column],\n",
    "    exog=data[x1_features.tolist() + [const_column]]\n",
    ").fit()\n",
    "\n",
    "# Отнимаем предсказанные значения таргета\n",
    "data[target_column + '_by_x1'] = model_MEDV.predict(data[x1_features.tolist() + [const_column]])\n",
    "data[target_column + '_detrended'] = data[target_column] - data[target_column + '_by_x1']"
   ]
  },
  {
   "cell_type": "code",
   "execution_count": 146,
   "id": "ab762d34",
   "metadata": {},
   "outputs": [],
   "source": [
    "# Обучаем регрессию скорректированного таргета на скорректированных признаках группы X2\n",
    "model_detrended = sm.OLS(\n",
    "    endog=data[target_column + '_detrended'],\n",
    "    exog=data[list(map(lambda name: name + '_detrended', x2_features)) + [const_column]]\n",
    ").fit()"
   ]
  },
  {
   "cell_type": "code",
   "execution_count": 150,
   "id": "183d74fc",
   "metadata": {},
   "outputs": [
    {
     "name": "stdout",
     "output_type": "stream",
     "text": [
      "Коэффициенты в линейной регрессии, обученной на всех признаках:\n",
      "CRIM      -0.108011\n",
      "ZN         0.046420\n",
      "CHAS       2.686734\n",
      "PTRATIO   -0.952747\n",
      "LSTAT     -0.524758\n",
      "dtype: float64\n",
      "\n",
      "Коэффициенты в линейной регрессии, обученной на скорректированных признаках из группы X2:\n",
      "CRIM_detrended      -1.080114e-01\n",
      "ZN_detrended         4.642046e-02\n",
      "CHAS_detrended       2.686734e+00\n",
      "PTRATIO_detrended   -9.527472e-01\n",
      "LSTAT_detrended     -5.247584e-01\n",
      "CONST               -8.740508e-13\n",
      "dtype: float64\n",
      "\n"
     ]
    }
   ],
   "source": [
    "# Проверяем коэффициенты при признаках группы X2\n",
    "\n",
    "print(f'Коэффициенты в линейной регрессии, обученной на всех признаках:\\n{model.params[x2_features]}\\n')\n",
    "\n",
    "print(f'Коэффициенты в линейной регрессии, обученной на скорректированных признаках из группы X2:\\n{model_detrended.params}\\n')"
   ]
  },
  {
   "cell_type": "markdown",
   "id": "010c73ca",
   "metadata": {},
   "source": [
    "## Вывод\n",
    "\n",
    "Видим, что все коэффициентики остались такими же."
   ]
  },
  {
   "cell_type": "markdown",
   "id": "5ae46019",
   "metadata": {},
   "source": [
    "# Про эквивалентность или не эквивалентность разных методов подсчета квантилей\n",
    "\n",
    "Сгенерируйте 2 выборки длины ,например, 10000 из:\n",
    "\n",
    "1. Нормального\n",
    "2. Логнормального\n",
    "3. Экспоненциального\n",
    "\n",
    "Распределений с наперед заданными параметрами, так чтобы вы могли однозначно посчитать разницу медиан (используя теорвер и википедию)\n",
    "\n",
    "\n",
    "\n",
    "Проверьте, какой по этим выборкам будет получаться 95% доверительный интервал на разницу медиан, если его посчитать с помощью:\n",
    "\n",
    "1. Бутстрепа\n",
    "2. [Подгонки](https://engineering.atspotify.com/2022/03/comparing-quantiles-at-scale-in-online-a-b-testing/) от Spotify\n",
    "3. [Подгонки](https://www.evanmiller.org/bootstrapping-sample-medians.html) результатов бутстрепа от Эвана Миллера\n",
    "4. [Метода Прайса-Боннетта](https://www.tandfonline.com/doi/abs/10.1080/00949650212140)\n",
    "\n",
    "Что вы можете сказать о работоспособности методов?\n",
    "\n",
    "(можно попробовать подать на вход какие-то другие распределения, как бы провести \"стресс-тест\" метода)\n"
   ]
  },
  {
   "cell_type": "code",
   "execution_count": 182,
   "id": "cb7add16",
   "metadata": {},
   "outputs": [],
   "source": [
    "from scipy import stats\n",
    "from tqdm.auto import tqdm"
   ]
  },
  {
   "cell_type": "markdown",
   "id": "76b4a7f8",
   "metadata": {},
   "source": [
    "## Бутстреп"
   ]
  },
  {
   "cell_type": "code",
   "execution_count": 248,
   "id": "aaba34d1",
   "metadata": {},
   "outputs": [],
   "source": [
    "def bootstrap_quantile(sample_1, sample_2, quantile=0.5, n_bootstrap_samples=10000, alpha=0.05):\n",
    "    bootstrap_statistics = []\n",
    "    quantile_diff = np.quantile(sample_1, quantile) - np.quantile(sample_2, quantile)\n",
    "\n",
    "    for _ in tqdm(range(n_bootstrap_samples)):\n",
    "        bootstrap_sample = np.random.choice(sample_1, size=len(sample_1), replace=True)\n",
    "        bootstrap_median_1 = np.quantile(bootstrap_sample, quantile)\n",
    "\n",
    "        bootstrap_sample = np.random.choice(sample_2, size=len(sample_2), replace=True)\n",
    "        bootstrap_median_2 = np.quantile(bootstrap_sample, quantile)\n",
    "\n",
    "        bootstrap_statistics.append(bootstrap_median_1 - bootstrap_median_2)\n",
    "\n",
    "\n",
    "    z = stats.norm.ppf(1 - alpha/2)\n",
    "    se = np.std(bootstrap_statistics)\n",
    "    ci = (quantile_diff - z*se, quantile_diff + z*se)\n",
    "\n",
    "    return quantile_diff, ci"
   ]
  },
  {
   "cell_type": "markdown",
   "id": "c1f9a3d8",
   "metadata": {},
   "source": [
    "### Нормальное\n",
    "\n",
    "Для $N(\\mu, \\sigma^2)$ значение медианы равно $\\mu$, т.е. совпадает со средним."
   ]
  },
  {
   "cell_type": "code",
   "execution_count": 250,
   "id": "c332d579",
   "metadata": {},
   "outputs": [
    {
     "name": "stdout",
     "output_type": "stream",
     "text": [
      "Теоретическая разница медиан: 2\n"
     ]
    }
   ],
   "source": [
    "mu_1, sigma_1 = 2, 1.5\n",
    "mu_2, sigma_2 = 0, 1\n",
    "\n",
    "sample_1 = np.random.normal(mu_1, sigma_1, size=10000)\n",
    "sample_2 = np.random.normal(mu_2, sigma_2, size=10000)\n",
    "\n",
    "print('Теоретическая разница медиан:', mu_1 - mu_2)"
   ]
  },
  {
   "cell_type": "code",
   "execution_count": 251,
   "id": "045bd0aa",
   "metadata": {},
   "outputs": [
    {
     "data": {
      "application/vnd.jupyter.widget-view+json": {
       "model_id": "cac5f0f7aee840eab395f305d3470145",
       "version_major": 2,
       "version_minor": 0
      },
      "text/plain": [
       "  0%|          | 0/10000 [00:00<?, ?it/s]"
      ]
     },
     "metadata": {},
     "output_type": "display_data"
    }
   ],
   "source": [
    "median_diff, ci = bootstrap_quantile(sample_1, sample_2)"
   ]
  },
  {
   "cell_type": "code",
   "execution_count": 252,
   "id": "1c19a429",
   "metadata": {},
   "outputs": [
    {
     "name": "stdout",
     "output_type": "stream",
     "text": [
      "Разница медиан: 2.024115018335167\n",
      "95% доверительный интервал: (1.9790992451889673, 2.0691307914813666)\n"
     ]
    }
   ],
   "source": [
    "print('Разница медиан:', median_diff)\n",
    "print('95% доверительный интервал:', ci)"
   ]
  },
  {
   "cell_type": "markdown",
   "id": "ac091d21",
   "metadata": {},
   "source": [
    "### Логнормальное\n",
    "\n",
    "Для $LogN(\\mu, \\sigma^2)$ значение медианы равно $e^{\\mu}$."
   ]
  },
  {
   "cell_type": "code",
   "execution_count": 253,
   "id": "a41d6839",
   "metadata": {},
   "outputs": [
    {
     "name": "stdout",
     "output_type": "stream",
     "text": [
      "Теоретическая разница медиан: -4.670774270471606\n"
     ]
    }
   ],
   "source": [
    "mu_1, sigma_1 = 1, 0.5\n",
    "mu_2, sigma_2 = 2, 1.1\n",
    "\n",
    "sample_1 = np.random.lognormal(mu_1, sigma_1, size=10000)\n",
    "sample_2 = np.random.lognormal(mu_2, sigma_2, size=10000)\n",
    "\n",
    "print('Теоретическая разница медиан:', np.exp(mu_1) - np.exp(mu_2))"
   ]
  },
  {
   "cell_type": "code",
   "execution_count": 254,
   "id": "4c87c001",
   "metadata": {},
   "outputs": [
    {
     "data": {
      "application/vnd.jupyter.widget-view+json": {
       "model_id": "0c3ad85714504255954313dedc1dcc1f",
       "version_major": 2,
       "version_minor": 0
      },
      "text/plain": [
       "  0%|          | 0/10000 [00:00<?, ?it/s]"
      ]
     },
     "metadata": {},
     "output_type": "display_data"
    }
   ],
   "source": [
    "median_diff, ci = bootstrap_quantile(sample_1, sample_2)"
   ]
  },
  {
   "cell_type": "code",
   "execution_count": 255,
   "id": "e52d3c17",
   "metadata": {},
   "outputs": [
    {
     "name": "stdout",
     "output_type": "stream",
     "text": [
      "Разница медиан: -4.704181914169902\n",
      "95% доверительный интервал: (-4.916908051649697, -4.491455776690106)\n"
     ]
    }
   ],
   "source": [
    "print('Разница медиан:', median_diff)\n",
    "print('95% доверительный интервал:', ci)"
   ]
  },
  {
   "cell_type": "markdown",
   "id": "1d926b36",
   "metadata": {},
   "source": [
    "### Экспоненциальное\n",
    "\n",
    "Для $Exp(\\lambda)$ значение медианы равно $\\frac{ln(2)}{\\lambda}$."
   ]
  },
  {
   "cell_type": "code",
   "execution_count": 256,
   "id": "92c0b916",
   "metadata": {},
   "outputs": [
    {
     "name": "stdout",
     "output_type": "stream",
     "text": [
      "Теоретическая разница медиан: 0.1931471805599453\n"
     ]
    }
   ],
   "source": [
    "lambda_1 = 1\n",
    "lambda_2 = 2 * np.log(2)\n",
    "\n",
    "# в numpy по-дурацки задается параметр распределения, scale = 1/lambda\n",
    "sample_1 = np.random.exponential(1/lambda_1, size=10000)\n",
    "sample_2 = np.random.exponential(1/lambda_2, size=10000)\n",
    "\n",
    "print('Теоретическая разница медиан:', np.log(2) / lambda_1 - np.log(2) / lambda_2)"
   ]
  },
  {
   "cell_type": "code",
   "execution_count": 257,
   "id": "c3619664",
   "metadata": {},
   "outputs": [
    {
     "data": {
      "application/vnd.jupyter.widget-view+json": {
       "model_id": "57d52005158849558784052135973881",
       "version_major": 2,
       "version_minor": 0
      },
      "text/plain": [
       "  0%|          | 0/10000 [00:00<?, ?it/s]"
      ]
     },
     "metadata": {},
     "output_type": "display_data"
    }
   ],
   "source": [
    "median_diff, ci = bootstrap_quantile(sample_1, sample_2)"
   ]
  },
  {
   "cell_type": "code",
   "execution_count": 258,
   "id": "1250fa5b",
   "metadata": {},
   "outputs": [
    {
     "name": "stdout",
     "output_type": "stream",
     "text": [
      "Разница медиан: 0.21406292933494192\n",
      "95% доверительный интервал: (0.18946535024881664, 0.2386605084210672)\n"
     ]
    }
   ],
   "source": [
    "print('Разница медиан:', median_diff)\n",
    "print('95% доверительный интервал:', ci)"
   ]
  },
  {
   "cell_type": "markdown",
   "id": "1c9ce130",
   "metadata": {},
   "source": [
    "## Подгонка от Spotify"
   ]
  },
  {
   "cell_type": "code",
   "execution_count": 259,
   "id": "491f5eff",
   "metadata": {},
   "outputs": [],
   "source": [
    "def spotify_approach(sample_1, sample_2, quantile=0.5, n_bootstrap_samples=5000, alpha=0.05):\n",
    "    n = len(sample_1)\n",
    "\n",
    "    median_diff = np.quantile(sample_1, quantile) - np.quantile(sample_2, quantile)\n",
    "\n",
    "    # сортируем обе выборки\n",
    "    sample_1_sorted = np.sort(sample_1)\n",
    "    sample_2_sorted = np.sort(sample_2)\n",
    "\n",
    "    # семплируем индексы из биномиального распределения\n",
    "    sample_1_indices = np.random.binomial(n=n, p=quantile, size=n_bootstrap_samples) \n",
    "    sample_2_indices = np.random.binomial(n=n, p=quantile, size=n_bootstrap_samples)\n",
    "\n",
    "    # вытаскиваем из отсортированной выборки элементы по индексам\n",
    "    bootstrap_diff_distr = sample_1_sorted[sample_1_indices] - sample_2_sorted[sample_2_indices]\n",
    "\n",
    "    # доверительный интервал\n",
    "    ci = np.quantile(bootstrap_diff_distr, [alpha/2, 1 - alpha/2])\n",
    "\n",
    "    return median_diff, ci"
   ]
  },
  {
   "cell_type": "markdown",
   "id": "87ae64aa",
   "metadata": {},
   "source": [
    "### Нормальное"
   ]
  },
  {
   "cell_type": "code",
   "execution_count": 260,
   "id": "f1766dd2",
   "metadata": {},
   "outputs": [
    {
     "name": "stdout",
     "output_type": "stream",
     "text": [
      "Теоретическая разница медиан: 2\n"
     ]
    }
   ],
   "source": [
    "mu_1, sigma_1 = 2, 1.5\n",
    "mu_2, sigma_2 = 0, 1\n",
    "\n",
    "sample_1 = np.random.normal(mu_1, sigma_1, size=10000)\n",
    "sample_2 = np.random.normal(mu_2, sigma_2, size=10000)\n",
    "\n",
    "print('Теоретическая разница медиан:', mu_1 - mu_2)"
   ]
  },
  {
   "cell_type": "code",
   "execution_count": 261,
   "id": "efbb48c3",
   "metadata": {},
   "outputs": [
    {
     "name": "stdout",
     "output_type": "stream",
     "text": [
      "Разница медиан: 1.9714384026088305\n",
      "95% доверительный интервал: [1.92344413 2.01102283]\n"
     ]
    }
   ],
   "source": [
    "median_diff, ci = spotify_approach(sample_1, sample_2)\n",
    "print('Разница медиан:', median_diff)\n",
    "print('95% доверительный интервал:', ci)"
   ]
  },
  {
   "cell_type": "markdown",
   "id": "4ddec4cf",
   "metadata": {},
   "source": [
    "### Логнормальное"
   ]
  },
  {
   "cell_type": "code",
   "execution_count": 262,
   "id": "6d912091",
   "metadata": {},
   "outputs": [
    {
     "name": "stdout",
     "output_type": "stream",
     "text": [
      "Теоретическая разница медиан: -4.670774270471606\n"
     ]
    }
   ],
   "source": [
    "mu_1, sigma_1 = 1, 0.5\n",
    "mu_2, sigma_2 = 2, 1.1\n",
    "\n",
    "sample_1 = np.random.lognormal(mu_1, sigma_1, size=10000)\n",
    "sample_2 = np.random.lognormal(mu_2, sigma_2, size=10000)\n",
    "\n",
    "print('Теоретическая разница медиан:', np.exp(mu_1) - np.exp(mu_2))"
   ]
  },
  {
   "cell_type": "code",
   "execution_count": 263,
   "id": "aae35cee",
   "metadata": {},
   "outputs": [
    {
     "name": "stdout",
     "output_type": "stream",
     "text": [
      "Разница медиан: -4.806570427010124\n",
      "95% доверительный интервал: [-4.99981086 -4.57392346]\n"
     ]
    }
   ],
   "source": [
    "median_diff, ci = spotify_approach(sample_1, sample_2)\n",
    "print('Разница медиан:', median_diff)\n",
    "print('95% доверительный интервал:', ci)"
   ]
  },
  {
   "cell_type": "markdown",
   "id": "69d0aa46",
   "metadata": {},
   "source": [
    "### Экспоненциальное"
   ]
  },
  {
   "cell_type": "code",
   "execution_count": 264,
   "id": "8b49d567",
   "metadata": {},
   "outputs": [
    {
     "name": "stdout",
     "output_type": "stream",
     "text": [
      "Теоретическая разница медиан: 0.1931471805599453\n"
     ]
    }
   ],
   "source": [
    "lambda_1 = 1\n",
    "lambda_2 = 2 * np.log(2)\n",
    "\n",
    "# в numpy по-дурацки задается параметр распределения, scale = 1/lambda\n",
    "sample_1 = np.random.exponential(1/lambda_1, size=10000)\n",
    "sample_2 = np.random.exponential(1/lambda_2, size=10000)\n",
    "\n",
    "print('Теоретическая разница медиан:', np.log(2) / lambda_1 - np.log(2) / lambda_2)"
   ]
  },
  {
   "cell_type": "code",
   "execution_count": 265,
   "id": "332ff0d3",
   "metadata": {},
   "outputs": [
    {
     "name": "stdout",
     "output_type": "stream",
     "text": [
      "Разница медиан: 0.20350459612607597\n",
      "95% доверительный интервал: [0.17916314 0.22875469]\n"
     ]
    }
   ],
   "source": [
    "median_diff, ci = spotify_approach(sample_1, sample_2)\n",
    "print('Разница медиан:', median_diff)\n",
    "print('95% доверительный интервал:', ci)"
   ]
  },
  {
   "cell_type": "markdown",
   "id": "e5dbf104",
   "metadata": {},
   "source": [
    "## Пунктов 3 и 4 нет"
   ]
  },
  {
   "cell_type": "markdown",
   "id": "0765a8d5",
   "metadata": {},
   "source": [
    "## Вывод:\n",
    "\n",
    "Подгонка от Spotify работает быстрее обычного бутстрепа. Дает хороший доверительный интервал."
   ]
  }
 ],
 "metadata": {
  "kernelspec": {
   "display_name": "base",
   "language": "python",
   "name": "python3"
  },
  "language_info": {
   "codemirror_mode": {
    "name": "ipython",
    "version": 3
   },
   "file_extension": ".py",
   "mimetype": "text/x-python",
   "name": "python",
   "nbconvert_exporter": "python",
   "pygments_lexer": "ipython3",
   "version": "3.9.15"
  }
 },
 "nbformat": 4,
 "nbformat_minor": 5
}
